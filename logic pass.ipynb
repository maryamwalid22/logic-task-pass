{
 "cells": [
  {
   "cell_type": "code",
   "execution_count": 1,
   "id": "379e1f58",
   "metadata": {},
   "outputs": [
    {
     "name": "stdout",
     "output_type": "stream",
     "text": [
      "hellu! guud luck\n"
     ]
    }
   ],
   "source": [
    "cr = \"hello! good luck\"\n",
    "print(cr.replace('o','u'))"
   ]
  },
  {
   "cell_type": "code",
   "execution_count": 3,
   "id": "958a5a66",
   "metadata": {},
   "outputs": [
    {
     "name": "stdout",
     "output_type": "stream",
     "text": [
      "Enter lower bound of the interval:1\n",
      "1\n",
      "Enter upper bound of the interval:10\n",
      "10\n",
      "Prime numbers between 1 and 10 are:2 3 5 7 "
     ]
    }
   ],
   "source": [
    "\n",
    "print(\"Enter lower bound of the interval:\",\n",
    " end = \"\")\n",
    "a = int(input())  \n",
    "print(a)\n",
    "print(\"Enter upper bound of the interval:\",\n",
    "end = \"\")\n",
    "b = int(input())  \n",
    "print(b)\n",
    "\n",
    "\n",
    "print(\"Prime numbers between\", a, \"and\",\n",
    "b, \"are:\", end = \"\")\n",
    "\n",
    "\n",
    "\n",
    " for i in range(a, b + 1):\n",
    "\n",
    "\n",
    "\n",
    "    if (i == 1):\n",
    "        continue\n",
    "\n",
    "\n",
    "        flag = 1\n",
    " \n",
    "    for j in range(2, i // 2 + 1):\n",
    "        if (i % j == 0):\n",
    "        flag = 0\n",
    "             break\n",
    " \n",
    "    if (flag == 1):\n",
    "        print(i, end = \" \")\n",
    " \n"
   ]
  },
  {
   "cell_type": "code",
   "execution_count": 4,
   "id": "d90c0f0c",
   "metadata": {},
   "outputs": [
    {
     "name": "stdout",
     "output_type": "stream",
     "text": [
      "4\n"
     ]
    }
   ],
   "source": [
    "str=\"mohammed monaf\"\n",
    "print(str.count(\"m\"))\n"
   ]
  },
  {
   "cell_type": "code",
   "execution_count": null,
   "id": "bb3b5456",
   "metadata": {},
   "outputs": [],
   "source": []
  }
 ],
 "metadata": {
  "kernelspec": {
   "display_name": "Python 3 (ipykernel)",
   "language": "python",
   "name": "python3"
  },
  "language_info": {
   "codemirror_mode": {
    "name": "ipython",
    "version": 3
   },
   "file_extension": ".py",
   "mimetype": "text/x-python",
   "name": "python",
   "nbconvert_exporter": "python",
   "pygments_lexer": "ipython3",
   "version": "3.9.12"
  }
 },
 "nbformat": 4,
 "nbformat_minor": 5
}
